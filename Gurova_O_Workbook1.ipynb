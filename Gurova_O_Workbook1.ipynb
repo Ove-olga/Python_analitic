{
 "cells": [
  {
   "cell_type": "markdown",
   "id": "0fb91cfd",
   "metadata": {},
   "source": [
    "# Рабочая тетрадь №1\n",
    "\n",
    "## студентки БББО-05-20 Гуровой Ольги"
   ]
  },
  {
   "cell_type": "markdown",
   "id": "c144ffd8",
   "metadata": {},
   "source": [
    "Цель изучения дисциплины – формирование компетенций в области современных информационных технологий с применением инструментария искусственного интеллекта и машинного обучения. Для реализации методов и алгоритмов будем использовать язык программирования Python.\n",
    "\n",
    "Python является популярным высокоуровневым языком программирования, который применяется для решения прикладных задач принятия решений с использованием технологий искусственного интеллекта и машинного обучения.  \n",
    "Для реализации методов и алгоритмов, изучаемых в данной дисциплине, рекомендуется использовать среду разработок Anaconda, содержащую библиотеки языка программирования Python с открытым исходным кодом."
   ]
  },
  {
   "cell_type": "markdown",
   "id": "a554810f",
   "metadata": {},
   "source": [
    "## 1.1. Теоретический материал – Типы данных\n",
    "\n",
    "**Типы данных**\n",
    "\n",
    "Все типы данных в Python относятся к одной из 2-х категорий: \n",
    "изменяемые (mutable) и неизменяемые (immutable).\n",
    "\n",
    "Неизменяемые объекты:\n",
    "- числовые данные (int, float),\n",
    "- bool,\n",
    "- None,\n",
    "- символьные строки (class 'str'),\n",
    "- кортежи (tuple).  \n",
    "\n",
    "Изменяемые объекты:\n",
    "- списки (list),\n",
    "- множества (set),\n",
    "- словари (dict)."
   ]
  },
  {
   "cell_type": "markdown",
   "id": "f053c413",
   "metadata": {},
   "source": [
    "**1.2 Пример**\n",
    "\n",
    "***Задача:***\n",
    "\n",
    "Выведите на печать и определите тип переменной.\n",
    "\n",
    "***Решение:***"
   ]
  },
  {
   "cell_type": "code",
   "execution_count": 4,
   "id": "51d9f38b",
   "metadata": {},
   "outputs": [
    {
     "name": "stdout",
     "output_type": "stream",
     "text": [
      "39.4 | <class 'float'> \n",
      " None | <class 'NoneType'> \n",
      " ('a', 5, 12.345, (2, 'b')) | <class 'tuple'> \n",
      " [['Антонова Антонина', 34, 'ж'], ['Борисов Борис', 26, 'м']] | <class 'list'> \n",
      " {'content', 1, 'title', 2} | <class 'set'> \n",
      "\n"
     ]
    }
   ],
   "source": [
    "x = 3 + 5.2 * 7\n",
    "y = None\n",
    "z = 'a', 5, 12.345, (2, 'b')\n",
    "df = [['Антонова Антонина', 34, 'ж'], ['Борисов Борис', 26, 'м']]\n",
    "A = {1, 'title', 2, 'content'}\n",
    "\n",
    "print(x, '|', type(x), '\\n', y, '|', type(y), '\\n', z, '|', type(z), '\\n', df, '|', type(df), '\\n', A, '|', type(A), '\\n')"
   ]
  },
  {
   "cell_type": "markdown",
   "id": "32322278",
   "metadata": {},
   "source": [
    "**1.3 Задание**\n",
    "\n",
    "***Задача:***\n",
    "\n",
    "Выведите на печать и определите тип переменной.\n",
    "\n",
    "***Решение:***"
   ]
  },
  {
   "cell_type": "code",
   "execution_count": 5,
   "id": "84e3203c",
   "metadata": {
    "scrolled": true
   },
   "outputs": [
    {
     "name": "stdout",
     "output_type": "stream",
     "text": [
      "True <class 'bool'> \n",
      "\n",
      "{8, 1, 3, 7} <class 'set'> \n",
      "\n",
      "{'apple', 2, 4, 5, 10} <class 'set'> \n",
      "\n",
      "set() <class 'set'> \n",
      "\n",
      "('Антонова Антонина', 34, 'ж') <class 'tuple'> \n",
      "\n",
      "type <class 'str'> \n",
      "\n",
      "[1, 'title', 2, 'content'] <class 'list'> \n",
      "\n"
     ]
    }
   ],
   "source": [
    "X = 5 >= 2\n",
    "A = {1, 3, 7, 8}\n",
    "B = {2, 4, 5, 10, 'apple'}\n",
    "C = A & B\n",
    "df = 'Антонова Антонина', 34, 'ж'\n",
    "Z = 'type'\n",
    "D = [1, 'title', 2, 'content']\n",
    "print ( X, type(X), \"\\n\")\n",
    "print ( A, type(A), \"\\n\")\n",
    "print ( B, type(B), \"\\n\")\n",
    "print ( C, type(C), \"\\n\")\n",
    "print ( df, type(df), \"\\n\")\n",
    "print ( Z, type(Z), \"\\n\")\n",
    "print ( D, type(D), \"\\n\")"
   ]
  },
  {
   "cell_type": "markdown",
   "id": "39744832",
   "metadata": {},
   "source": [
    "## 2.1. Теоретический материал – Условный оператор\n",
    "**If  – Условный оператор**\n",
    "\n",
    "В коде часто приходится проверять выполнимость или невыполнимость каких-то условий. Синтаксис:  \n",
    "``` python\n",
    "if <условие1 (булевское выражение)> :  \n",
    "<код, который выполнится, если условие верно>  \n",
    "elif <условие2 (булевское выражение)>:  \n",
    "<код, который выполнится, если условие1 было неверно, а условие2 верно>  \n",
    "else:  \n",
    "<код, который выполнится, если условие1 и условие2 были неверны>\n",
    "```\n",
    "\n",
    "Обратите внимание, что код, который должен выполняться внутри каждого условия, записывается с отступом в 4 пробела от уровня if, elif и else: в питоне области видимости переменных обозначаются отступами.  \n",
    "***То есть, отступы позволяют понять, где начинается код, который должен выполняться при выполнении условия в if, и где заканчивается.***\n",
    "\n"
   ]
  },
  {
   "cell_type": "markdown",
   "id": "6b2946b6",
   "metadata": {},
   "source": [
    "**2.2 Пример**\n",
    "\n",
    "***Задача:***\n",
    "\n",
    "Вывести на экран является ли переменная х положительной, отрицательной или равна нулю.\n",
    "\n",
    "***Решение:***"
   ]
  },
  {
   "cell_type": "code",
   "execution_count": 8,
   "id": "a6c9dbc1",
   "metadata": {
    "scrolled": true
   },
   "outputs": [
    {
     "name": "stdout",
     "output_type": "stream",
     "text": [
      "x положительный\n"
     ]
    }
   ],
   "source": [
    "x = 125\n",
    "if x < 0:\n",
    "    print('x отрицательный')\n",
    "elif x == 0:\n",
    "    print('x равен нулю')\n",
    "else:\n",
    "    print('x положительный')"
   ]
  },
  {
   "cell_type": "markdown",
   "id": "90b6b7fb",
   "metadata": {},
   "source": [
    "**2.3 Задание**\n",
    "\n",
    "***Задача:***\n",
    "\n",
    "Напишите код. Задается х, напечатать какому из интервалов принадлежит: (-infinity, -5), [-5, 5] или от (5, +infinity)\n",
    "\n",
    "***Решение:***"
   ]
  },
  {
   "cell_type": "code",
   "execution_count": 7,
   "id": "f2a66000",
   "metadata": {},
   "outputs": [
    {
     "name": "stdout",
     "output_type": "stream",
     "text": [
      "4\n",
      "х принадлежит [-5, 5]\n"
     ]
    }
   ],
   "source": [
    "x = int(input())\n",
    "if x < -5:\n",
    "    print ('х принадлежит (-infinity, -5)')\n",
    "elif x <= 5:\n",
    "         print ('х принадлежит [-5, 5]')\n",
    "else:\n",
    "    print ('х принадлежит (5, infinity)')"
   ]
  },
  {
   "cell_type": "markdown",
   "id": "2dc9f168",
   "metadata": {},
   "source": [
    "## 3.1. Теоретический материал – Циклы, массивы, срезы\n",
    "\n",
    "**Циклы - for и while**\n",
    "\n",
    "Цикл **while** проверяет истинность условия, и если условие истинно, то выполняет инструкции цикла.  \n",
    "Синтаксис: \n",
    "``` python\n",
    "while условие:\n",
    "    инструкции\n",
    "```  \n",
    "Инструкции, которые относятся к циклу while, располагаются на последующих строках и должны иметь отступ от начала ключевого слова while.  \n",
    "Цикл **for** проходит по набору значений, помещает каждое значение в переменную с которой в цикле можно производить различные действия.  \n",
    "Синтаксис:  \n",
    "``` python\n",
    "for переменная in набор_значений:\n",
    "    инструкции\n",
    "```  \n",
    "После ключевого слова **for** идет название переменной, в которую будут помещаться значения. После оператора **in** указывается набор значений и двоеточие. Инструкции, которые относятся к циклу, располагаются на последующих строках и должны иметь отступ.  \n",
    "При создании цикла удобно пользоваться функцией **range(a, b)**, которая создает последовательность чисел от **a** до **b-1**.\n"
   ]
  },
  {
   "cell_type": "markdown",
   "id": "74996c14",
   "metadata": {},
   "source": [
    "**3.2.1 Пример**\n",
    "\n",
    "***Задача:***\n",
    "\n",
    "Вывести все числа от 1 до 10 с шагом 3.\n",
    "\n",
    "***Решение:***"
   ]
  },
  {
   "cell_type": "code",
   "execution_count": 5,
   "id": "23b42df1",
   "metadata": {},
   "outputs": [
    {
     "name": "stdout",
     "output_type": "stream",
     "text": [
      "1\n",
      "4\n",
      "7\n",
      "10\n"
     ]
    }
   ],
   "source": [
    "x = 1\n",
    "while x <= 10:\n",
    "    print(x)\n",
    "    x += 3"
   ]
  },
  {
   "cell_type": "markdown",
   "id": "7a43317f",
   "metadata": {},
   "source": [
    "**3.2.2 Пример**\n",
    "\n",
    "***Задача:***\n",
    "\n",
    "Задан список. Напечатать все элементы списка.\n",
    "\n",
    "***Решение:***"
   ]
  },
  {
   "cell_type": "code",
   "execution_count": 6,
   "id": "7ddc725a",
   "metadata": {},
   "outputs": [
    {
     "name": "stdout",
     "output_type": "stream",
     "text": [
      "KNN\n",
      "decision tree\n",
      "linear model\n"
     ]
    }
   ],
   "source": [
    "models = ['KNN', 'decision tree', 'linear model']\n",
    "for model in models:\n",
    "    print(model)"
   ]
  },
  {
   "cell_type": "markdown",
   "id": "9ef7f0a4",
   "metadata": {},
   "source": [
    "**3.2.3 Пример**\n",
    "\n",
    "***Задача:***\n",
    "\n",
    "Создать список от 1 до 99 с шагом 7.\n",
    "\n",
    "***Решение:***"
   ]
  },
  {
   "cell_type": "code",
   "execution_count": 8,
   "id": "1bc560f2",
   "metadata": {},
   "outputs": [
    {
     "name": "stdout",
     "output_type": "stream",
     "text": [
      "[1, 8, 15, 22, 29, 36, 43, 50, 57, 64, 71, 78, 85, 92, 99]\n"
     ]
    }
   ],
   "source": [
    "list_int = range(1, 100, 7)\n",
    "print(list(list_int))"
   ]
  },
  {
   "cell_type": "markdown",
   "id": "8758c094",
   "metadata": {},
   "source": [
    "**3.2.4 Пример**\n",
    "\n",
    "***Задача:***\n",
    "\n",
    "Вывести на экран числа от 5 до 105 с шагом 25, используя функцию range()\n",
    "\n",
    "***Решение:***"
   ]
  },
  {
   "cell_type": "code",
   "execution_count": 9,
   "id": "2992de26",
   "metadata": {
    "scrolled": true
   },
   "outputs": [
    {
     "name": "stdout",
     "output_type": "stream",
     "text": [
      "5\n",
      "30\n",
      "55\n",
      "80\n",
      "105\n"
     ]
    }
   ],
   "source": [
    "for i in range(5, 106, 25):\n",
    "    print(i)"
   ]
  },
  {
   "cell_type": "markdown",
   "id": "395d7fe2",
   "metadata": {},
   "source": [
    "**3.2.5 Пример**\n",
    "\n",
    "***Задача:***\n",
    "\n",
    "**Срез.** Необходимо получить каждый k-й элемент массива a, начиная с элемента с индексом i (включительно) и заканчивая элементом с индексом j (не включительно), c шагом 2. Переставить все элементы в обратном порядке.\n",
    "\n",
    "***Решение:***"
   ]
  },
  {
   "cell_type": "code",
   "execution_count": 15,
   "id": "503550eb",
   "metadata": {
    "scrolled": true
   },
   "outputs": [
    {
     "name": "stdout",
     "output_type": "stream",
     "text": [
      "[2, 4, 6]\n",
      "[9, 8, 7, 6, 5, 4, 3, 2, 1]\n"
     ]
    }
   ],
   "source": [
    "a =  [1, 2, 3, 4, 5, 6, 7, 8, 9]\n",
    "b = a[1:7:2]\n",
    "c = a[::-1]\n",
    "print(b)\n",
    "print(c)"
   ]
  },
  {
   "cell_type": "markdown",
   "id": "770cc4fa",
   "metadata": {},
   "source": [
    "**3.3.1 Задание**\n",
    "\n",
    "***Задача:***\n",
    "\n",
    "Выведите числа из примера на while (3.2.1) в обратном порядке.\n",
    "\n",
    "***Решение:***"
   ]
  },
  {
   "cell_type": "code",
   "execution_count": 20,
   "id": "626e7cd0",
   "metadata": {},
   "outputs": [
    {
     "name": "stdout",
     "output_type": "stream",
     "text": [
      "10\n",
      "7\n",
      "4\n",
      "1\n"
     ]
    }
   ],
   "source": [
    "x = 10\n",
    "while x >= 1:\n",
    "    print (x)\n",
    "    x -=3"
   ]
  },
  {
   "cell_type": "markdown",
   "id": "2f774ca1",
   "metadata": {},
   "source": [
    "**3.3.2 Задание**\n",
    "\n",
    "***Задача:***\n",
    "\n",
    "При решении задач машинного обучения часто в качестве объектов исследования выступает человек. Создайте список значимых характеристик (признаков), идентифицирующих человека. Выведите список на экран.\n",
    "\n",
    "***Решение:***"
   ]
  },
  {
   "cell_type": "code",
   "execution_count": 4,
   "id": "744aa6db",
   "metadata": {},
   "outputs": [
    {
     "name": "stdout",
     "output_type": "stream",
     "text": [
      "kind\n",
      "polite\n",
      "rude\n",
      "friendly\n",
      "angry\n",
      "lazy\n"
     ]
    }
   ],
   "source": [
    "A = ['kind', 'polite', 'rude', 'friendly', 'angry', 'lazy']\n",
    "for a in A:\n",
    "    print(a)"
   ]
  },
  {
   "cell_type": "markdown",
   "id": "0450d1f7",
   "metadata": {},
   "source": [
    "**3.3.3 Задание**\n",
    "\n",
    "***Задача:***\n",
    "\n",
    "Создать список чисел от 2 до 15 с шагом 1.\n",
    "\n",
    "***Решение:***"
   ]
  },
  {
   "cell_type": "code",
   "execution_count": 18,
   "id": "6e678896",
   "metadata": {},
   "outputs": [
    {
     "name": "stdout",
     "output_type": "stream",
     "text": [
      "[2, 3, 4, 5, 6, 7, 8, 9, 10, 11, 12, 13, 14, 15]\n"
     ]
    }
   ],
   "source": [
    "list_int = range(2, 16, 1)\n",
    "print(list(list_int))"
   ]
  },
  {
   "cell_type": "markdown",
   "id": "df1ed3a9",
   "metadata": {},
   "source": [
    "**3.3.4 Задание**\n",
    "\n",
    "***Задача:***\n",
    "\n",
    "Выведите числа из примера на forcфункцией range() (3.2.4) в обратном порядке.\n",
    "\n",
    "***Решение:***"
   ]
  },
  {
   "cell_type": "code",
   "execution_count": 6,
   "id": "0e3fd1f9",
   "metadata": {},
   "outputs": [
    {
     "name": "stdout",
     "output_type": "stream",
     "text": [
      "105\n",
      "80\n",
      "55\n",
      "30\n",
      "5\n"
     ]
    }
   ],
   "source": [
    "for i in range(105, 1, -25):\n",
    "    print(i)"
   ]
  },
  {
   "cell_type": "markdown",
   "id": "42ca6ca5",
   "metadata": {},
   "source": [
    "**3.3.5 Задание**\n",
    "\n",
    "***Задача:***\n",
    "\n",
    "Срез. Напишите код, который все элементы массива x с четными индексами переставит в обратном порядке. Т.е. если x = [0, 1, 2, 3, 4, 5, 6, 7, 8, 9], то код должен сформировать [8, 1, 6, 3, 4, 5, 2, 7, 0, 9].\n",
    "\n",
    "***Решение:***"
   ]
  },
  {
   "cell_type": "code",
   "execution_count": 7,
   "id": "30de6827",
   "metadata": {},
   "outputs": [
    {
     "name": "stdout",
     "output_type": "stream",
     "text": [
      "[8, 6, 4, 2, 0]\n",
      "[8, 1, 6, 3, 4, 5, 2, 7, 0, 9]\n"
     ]
    }
   ],
   "source": [
    "x = [0, 1, 2, 3, 4, 5, 6, 7, 8, 9]\n",
    "b = x[0:10:2]\n",
    "d = b[::-1]\n",
    "print (d)\n",
    "x[0] = d[0]\n",
    "x[2] = d[1]\n",
    "x[4] = d[2]\n",
    "x[6] = d[3]\n",
    "x[8] = d[4]\n",
    "print (x)"
   ]
  },
  {
   "cell_type": "markdown",
   "id": "d6fedbf6",
   "metadata": {},
   "source": [
    "## 4.1. Теоретический материал - Библиотеки\n",
    "\n",
    "Машинное обучение опирается на фундаментальные понятия и законы математики и информатики. Библиотека математических функций (math) применяется при решении большинства прикладных задач анализа данных. Также, и некоторые другие библиотеки Python содержат математические функции (например, NumPy). Важную роль играет библиотека matplotlib, которая позволяет производить визуализацию расчетов в удобной для восприятия человеком форме: графики, диаграммы, гистограммы.\n",
    "Подключение библиотек – синтаксис: \n",
    "```python\n",
    "import math as m\n",
    "import numpy as np\n",
    "import matplotlib.pyplot as plt\n",
    "```\n",
    "etc…  \n",
    "Библиотеки в python содержат не только функции, позволяющие решать различные задачи, но и некоторые популярные константы, например число Эйлера."
   ]
  },
  {
   "cell_type": "markdown",
   "id": "a2baceff",
   "metadata": {},
   "source": [
    "**4.2.1 Пример**\n",
    "\n",
    "***Задача:***\n",
    "\n",
    "Рассчитать синус от е радиан и вывести результат на экран\n",
    "\n",
    "***Решение:***"
   ]
  },
  {
   "cell_type": "code",
   "execution_count": 21,
   "id": "a32de6c8",
   "metadata": {},
   "outputs": [
    {
     "name": "stdout",
     "output_type": "stream",
     "text": [
      "0.41078129050290885\n"
     ]
    }
   ],
   "source": [
    "import math as m\n",
    "print(m.sin(m.e))"
   ]
  },
  {
   "cell_type": "markdown",
   "id": "0383a8c3",
   "metadata": {},
   "source": [
    "**4.2.2 Пример**\n",
    "\n",
    "***Задача:***\n",
    "\n",
    "Для функции sin⁡〖(xe^cos⁡〖(x)〗 )〗 на интервале [0;10] с шагом 0,05 построить график функции, закрасить площадь под ним и вычислить значение этой площади.  \n",
    "Для вычисления площади воспользуйтесь функцией trapz(), вычисляющей интеграл по правилу трапеции. Для ее корректной работы необходимо подключить следующие библиотеки:  \n",
    "***from scipy.integrate import simps  \n",
    "from numpy import trapz***\n",
    "\n",
    "***Решение:***"
   ]
  },
  {
   "cell_type": "code",
   "execution_count": 24,
   "id": "6e6d1691",
   "metadata": {},
   "outputs": [
    {
     "name": "stdout",
     "output_type": "stream",
     "text": [
      "73.50792907748662\n"
     ]
    },
    {
     "data": {
      "image/png": "[encoded data removed]",
      "text/plain": [
       "<Figure size 432x288 with 1 Axes>"
      ]
     },
     "metadata": {
      "needs_background": "light"
     },
     "output_type": "display_data"
    }
   ],
   "source": [
    "import numpy as np\n",
    "import matplotlib.pyplot as plt\n",
    "from scipy.integrate import simps  \n",
    "from numpy import trapz\n",
    "x = np.arange(0.0, 10, 0.1)\n",
    "y = np.abs(np.sin(x * np.exp(np.cos(x))))\n",
    "plt.grid()\n",
    "plt.plot(x, y, c = 'r')\n",
    "plt.fill_between(x, y)\n",
    "\n",
    "area = trapz(y)\n",
    "print(area)"
   ]
  },
  {
   "cell_type": "markdown",
   "id": "d56562a4",
   "metadata": {},
   "source": [
    "**4.2.3 Пример**\n",
    "\n",
    "***Задача:***\n",
    "\n",
    "Дано некоторое распределение оценок в группе за экзамен. Нарисовать круговую и точечную диаграммы распределения. \n",
    "\n",
    "***Решение:***"
   ]
  },
  {
   "cell_type": "code",
   "execution_count": 31,
   "id": "83b75a78",
   "metadata": {},
   "outputs": [
    {
     "data": {
      "image/png": "[encoded data removed]",
      "text/plain": [
       "<Figure size 720x504 with 1 Axes>"
      ]
     },
     "metadata": {},
     "output_type": "display_data"
    },
    {
     "data": {
      "text/plain": [
       "<matplotlib.collections.PathCollection at 0x219bf0b1400>"
      ]
     },
     "execution_count": 31,
     "metadata": {},
     "output_type": "execute_result"
    },
    {
     "data": {
      "image/png": "[encoded data removed]",
      "text/plain": [
       "<Figure size 432x288 with 1 Axes>"
      ]
     },
     "metadata": {
      "needs_background": "light"
     },
     "output_type": "display_data"
    }
   ],
   "source": [
    "from matplotlib import pyplot as plt\n",
    "import numpy as np \n",
    "\n",
    "marks = ['Неуд', 'Удовл', 'Хор', 'Отл']\n",
    "\n",
    "data = [3, 7, 8, 4]\n",
    "fig = plt.figure(figsize = (10, 7))\n",
    "plt.pie(data, labels = marks)\n",
    "plt.show()\n",
    "plt.grid()\n",
    "plt.scatter(marks, data)"
   ]
  },
  {
   "cell_type": "markdown",
   "id": "6abcf894",
   "metadata": {},
   "source": [
    "**4.3.1 Задание**\n",
    "\n",
    "***Задача:***\n",
    "\n",
    "Задайте  массив случайных значений из интервала(0; 1). \n",
    "Рассчитайте средние и медианные значения для массива, сравните результаты, какие выводы можно сделать о значениях? \n",
    "Постройте точечную диаграмму рассения полученного ряда.\n",
    "\n",
    "***Решение:***"
   ]
  },
  {
   "cell_type": "code",
   "execution_count": 8,
   "id": "3c30b26d",
   "metadata": {},
   "outputs": [
    {
     "data": {
      "image/png": "[encoded data removed]",
      "text/plain": [
       "<Figure size 432x288 with 1 Axes>"
      ]
     },
     "metadata": {
      "needs_background": "light"
     },
     "output_type": "display_data"
    },
    {
     "name": "stdout",
     "output_type": "stream",
     "text": [
      "Массив -  [0.02051908 0.10553662 0.04956409 0.5035016  0.37683039 0.1551076\n",
      " 0.48499759 0.45684343 0.58570744 0.34696476 0.91086485]\n",
      "Среднеее значение массива -  0.3633124942124365\n",
      "Медианное значение массива -  0.37683039110886085\n"
     ]
    }
   ],
   "source": [
    "import matplotlib.pyplot as plt\n",
    "import numpy as np\n",
    "import random\n",
    "\n",
    "array = np.random.sample(11)\n",
    "sz = np.mean(array)\n",
    "median = np.median(array)\n",
    "plt.scatter(array, array)\n",
    "plt.show()\n",
    "\n",
    "print('Массив - ', array)\n",
    "print('Среднеее значение массива - ', sz)\n",
    "print('Медианное значение массива - ', median)"
   ]
  },
  {
   "attachments": {
    "image.png": {
     "image/png": "[encoded data removed]"
    }
   },
   "cell_type": "markdown",
   "id": "c1f8cd18",
   "metadata": {},
   "source": [
    "**4.3.2 Задание**\n",
    "\n",
    "***Задача:***\n",
    "\n",
    "Дана функция. ![image.png](attachment:image.png) Создать массив из 10 значений функции (x, например, изменяется от 1 до 10). Выделить срез первой половины массива и построить графики для основного массива – линейный и для среза – точечный\n",
    "\n",
    "***Решение:***"
   ]
  },
  {
   "cell_type": "code",
   "execution_count": 44,
   "id": "f18c7d6a",
   "metadata": {},
   "outputs": [
    {
     "data": {
      "image/png": "[encoded data removed]",
      "text/plain": [
       "<Figure size 432x288 with 1 Axes>"
      ]
     },
     "metadata": {
      "needs_background": "light"
     },
     "output_type": "display_data"
    },
    {
     "data": {
      "text/plain": [
       "[<matplotlib.lines.Line2D at 0x1b734ffe8b0>]"
      ]
     },
     "execution_count": 44,
     "metadata": {},
     "output_type": "execute_result"
    },
    {
     "data": {
      "image/png": "[encoded data removed]",
      "text/plain": [
       "<Figure size 432x288 with 1 Axes>"
      ]
     },
     "metadata": {
      "needs_background": "light"
     },
     "output_type": "display_data"
    }
   ],
   "source": [
    "import math as m\n",
    "import matplotlib.pyplot as plt\n",
    "massif = [1,2,3,4,5,6,7,8,9,10]\n",
    "y = []\n",
    "shear = []\n",
    "massif_shear = []\n",
    "for i in range(10):\n",
    "    x = massif[i]\n",
    "    y.append((m.sqrt(1+m.exp(m.sqrt(x))+m.cos(x*x)))/(abs(1-m.pow(m.sin(x),3)))+m.log(np.abs(2*x)))\n",
    "for i in range(5):\n",
    "    shear.append(y[i])\n",
    "    massif_shear.append(massif[i])\n",
    "\n",
    "plt.scatter (massif_shear,shear)\n",
    "plt.show()\n",
    "plt.plot(massif,y)\n",
    "plt.show()"
   ]
  },
  {
   "cell_type": "markdown",
   "id": "deb45364",
   "metadata": {},
   "source": [
    "**4.3.3 Задание**\n",
    "\n",
    "***Задача:***\n",
    "\n",
    "Дана функция |cos⁡(xe^((cos⁡(x)+ln⁡(x+1) ) ) ) | Построить график на интервале (0,10) с шагом 1с заливкой площади и найти эту площадь под ним. Для вычисления площади воспользуйте функции trapz(), вычисляющей интеграл по правилу трапеции.  \n",
    "Для ее корректной работы необходимо подключить следующие библиотеки:  \n",
    "***from scipy.integrate import simps  \n",
    "from numpy import trapz****\n",
    "\n",
    "***Решение:***"
   ]
  },
  {
   "cell_type": "code",
   "execution_count": 9,
   "id": "0e21bf30",
   "metadata": {},
   "outputs": [
    {
     "name": "stdout",
     "output_type": "stream",
     "text": [
      "6.260345875494747\n"
     ]
    },
    {
     "data": {
      "image/png": "[encoded data removed]",
      "text/plain": [
       "<Figure size 432x288 with 1 Axes>"
      ]
     },
     "metadata": {
      "needs_background": "light"
     },
     "output_type": "display_data"
    }
   ],
   "source": [
    "import numpy as np \n",
    "import matplotlib.pyplot as plt\n",
    "from scipy.integrate import simps\n",
    "from numpy import trapz\n",
    "\n",
    "x = np.arange(0.0, 10, 1)\n",
    "y = np.abs(np.cos(x*np.exp(np.cos(x)+np.log(x+1))))\n",
    "plt.grid()\n",
    "plt.plot(x,y,c=\"r\")\n",
    "plt.fill_between(x,y)\n",
    "\n",
    "area = trapz(y)\n",
    "print(area)"
   ]
  },
  {
   "cell_type": "markdown",
   "id": "68d8a319",
   "metadata": {},
   "source": [
    "**4.3.4 Задание**\n",
    "\n",
    "***Задача:***\n",
    "\n",
    "Откройте статистические данные по стоимости акций Apple, Microsoft, Google за 12 месяцев 2021 г. Постройте 3 графика на плоскости и оцените их динамику. Подумайте, как можно улучшить читаемость результатов.  \n",
    "Для начальных данных допустимо использовать следующий ресурс: https://finance.yahoo.com\n",
    "\n",
    "***Решение:***"
   ]
  },
  {
   "cell_type": "code",
   "execution_count": 40,
   "id": "d02cf8f8",
   "metadata": {},
   "outputs": [
    {
     "data": {
      "image/png": "[encoded data removed]",
      "text/plain": [
       "<Figure size 864x648 with 1 Axes>"
      ]
     },
     "metadata": {
      "needs_background": "light"
     },
     "output_type": "display_data"
    }
   ],
   "source": [
    "import matplotlib.pyplot as plt\n",
    "apple = [0, 133, 125, 134, 126, 130, 146, 151, 148, 145, 139, 150, 171]\n",
    "microsoft = [0, 243, 231, 260, 242, 250, 280, 305, 295, 298, 336, 343, 296]\n",
    "google = [0, 2115, 2052, 2274, 2204, 2370, 2490, 2714, 2886, 2706, 2865, 2951, 2940]\n",
    "\n",
    "plt.figure(figsize=(12,9))\n",
    "\n",
    "\n",
    "plt.minorticks_on()\n",
    "plt.grid(which='major', color='gray')\n",
    "plt.grid(which='minor', color='gray', linestyle=':')\n",
    "\n",
    "plt.plot(apple, '-yv', linewidth = 2)\n",
    "plt.plot(microsoft, '-bv', linewidth = 2)\n",
    "plt.plot(google, '-gv', linewidth = 2)\n",
    "\n",
    "plt.title('Акции 2021 год', fontsize=20, fontname='Times New Roman')\n",
    "plt.xlabel('Месяц', color='gray')\n",
    "plt.ylabel('Стоимость', color='gray')\n",
    "plt.legend(['Apple','Microsoft','Google'], loc=2)\n",
    "\n",
    "plt.show()"
   ]
  },
  {
   "cell_type": "markdown",
   "id": "3806c81e",
   "metadata": {},
   "source": [
    "**4.3.5 Задание**\n",
    "\n",
    "***Задача:***\n",
    "\n",
    "Создайте простейший калькулятор, включающий основные действия для двух переменных'+','-','∙','÷', а также вычисление следующих функций: e^(x+y),sin⁡〖(x+y)〗,cos⁡〖(x+y)〗,x^y.\n",
    "\n",
    "***Решение:***"
   ]
  },
  {
   "cell_type": "code",
   "execution_count": 19,
   "id": "648bb572",
   "metadata": {},
   "outputs": [
    {
     "name": "stdout",
     "output_type": "stream",
     "text": [
      "Ведите '0', чтобы завершить работу программы.\n",
      "Выберите действие (+ , - , * , /, e^(x+y), sin(x+y), cos(x+y), x^y): -\n",
      "x = 5\n",
      "y = 8\n",
      "-3.00\n",
      "Ведите '0', чтобы завершить работу программы.\n",
      "Выберите действие (+ , - , * , /, e^(x+y), sin(x+y), cos(x+y), x^y): 0\n"
     ]
    }
   ],
   "source": [
    "import math as m\n",
    "import numpy as np\n",
    "while True:\n",
    "    print(\"Ведите '0', чтобы завершить работу программы.\")\n",
    "    s = input(\"Выберите действие (+ , - , * , /, e^(x+y), sin(x+y), cos(x+y), x^y): \")\n",
    "    if s == '0':\n",
    "        break\n",
    "    if s in ('+', '-', '*', '/', 'e^(x+y)', 'sin(x+y)', 'cos(x+y)', 'x^y'):\n",
    "        x = float(input(\"x = \"))\n",
    "        y = float(input(\"y = \"))\n",
    "        if s == '+':\n",
    "            print(\"%.2f\" % (x+y))\n",
    "        elif s == '-':\n",
    "            print(\"%.2f\" % (x-y))\n",
    "        elif s == '*':\n",
    "            print(\"%.2f\" % (x*y))\n",
    "        elif s == 'cos(x+y)':\n",
    "            print(\"%.2f\" % (m.cos(x+y)))\n",
    "        elif s == 'sin(x+y)':\n",
    "            print(\"%.2f\" % (m.sin(x+y)))\n",
    "        elif s == 'x^y':\n",
    "            print(\"%.2f\" % (x**y))\n",
    "        elif s == 'e^(x+y)':\n",
    "            print(\"%.2f\" % (np.exp(x+y)))\n",
    "        elif s == '/':\n",
    "            if y != 0:\n",
    "                print(\"%.2f\" % (x/y))\n",
    "            else:\n",
    "                print(\"Делить на ноль нельзя\")\n",
    "    else:\n",
    "        print(\"Неверный знак операции!\")\n",
    "   "
   ]
  }
 ],
 "metadata": {
  "kernelspec": {
   "display_name": "Python 3 (ipykernel)",
   "language": "python",
   "name": "python3"
  },
  "language_info": {
   "codemirror_mode": {
    "name": "ipython",
    "version": 3
   },
   "file_extension": ".py",
   "mimetype": "text/x-python",
   "name": "python",
   "nbconvert_exporter": "python",
   "pygments_lexer": "ipython3",
   "version": "3.9.7"
  }
 },
 "nbformat": 4,
 "nbformat_minor": 5
}
